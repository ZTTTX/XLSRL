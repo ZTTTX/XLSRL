{
 "cells": [
  {
   "cell_type": "code",
   "execution_count": 169,
   "metadata": {},
   "outputs": [],
   "source": [
    "import re\n",
    "import networkx as nx\n",
    "import matplotlib.pyplot as plt\n",
    "from networkx.algorithms import isomorphism"
   ]
  },
  {
   "cell_type": "code",
   "execution_count": 154,
   "metadata": {},
   "outputs": [],
   "source": [
    "class Node:\n",
    "    def __init__(self, name=None, bitwidth=None, operation=None, operands=None, \n",
    "                 idNum=None, value=None, pos=None, FuncIO=None, start=None, width=None):\n",
    "        self.name = name\n",
    "        self.bitwidth = bitwidth\n",
    "        self.operation = operation\n",
    "        self.operands = operands\n",
    "        self.idNum = idNum\n",
    "        self.value = value\n",
    "        self.pos = pos\n",
    "        self.FuncIO = FuncIO\n",
    "        self.start = start\n",
    "        self.width = width\n",
    "\n",
    "    def __repr__(self):\n",
    "        return f\"Node(name={self.name}, bitwidth={self.bitwidth}, operation={self.operation}, operands={self.operands}, id={self.idNum}, value={self.value}, pos={self.pos}, FuncIO={self.FuncIO}, start={self.start}, width={self.width})\"\n",
    "\n",
    "def node_to_dict(node):\n",
    "    return {\n",
    "        \"name\": node.name,\n",
    "        \"bitwidth\": node.bitwidth,\n",
    "        \"operation\": node.operation,\n",
    "        \"operands\": node.operands,\n",
    "        \"idNum\": node.idNum,\n",
    "        \"value\": node.value,\n",
    "        \"pos\": node.pos,\n",
    "        \"FuncIO\": node.FuncIO,\n",
    "        \"Start\": node.start,\n",
    "        \"width\": node.width\n",
    "    }\n",
    "    \n",
    "def ParseIRFile(ir_text):\n",
    "    nodes_dict = {}\n",
    "    lines = ir_text.strip().split(\"\\n\")[4:] \n",
    "    return lines\n",
    "\n",
    "def LineToDict(line):\n",
    "    nodes = []\n",
    "    # Check for function header\n",
    "    FuncIO = \"Not\"\n",
    "    if \"fn\" in line:\n",
    "        FuncIO = \"In\"\n",
    "        # Extract everything between ( and )\n",
    "        args_str = re.search(r'\\((.*?)\\)', line).group(1)\n",
    "        # Split by comma to get individual arguments\n",
    "        args = args_str.split(',')\n",
    "        for arg in args:\n",
    "            # Extract name and bitwidth\n",
    "            name, bit_info = [s.strip() for s in arg.split(':')]\n",
    "            bitwidth = int(re.search(r'bits\\[(\\d+)\\]', bit_info).group(1))\n",
    "            # Create a Node object for each argument\n",
    "            node = Node(name=name, bitwidth=bitwidth, FuncIO=FuncIO)\n",
    "            nodes.append(node)\n",
    "        return nodes\n",
    "    if \"ret\" in line:\n",
    "        FuncIO = \"Out\"\n",
    "        line = line[4:]\n",
    "        \n",
    "    if line == \"}\":\n",
    "        return None\n",
    "\n",
    "    # Extract node name\n",
    "    name = re.search(r\"(\\w+\\.\\d+):\", line).group(1)\n",
    "\n",
    "    # Extract bitwidth\n",
    "    bitwidth = int(re.search(r\"bits\\[(\\d+)\\]\", line).group(1))\n",
    "\n",
    "    # Extract operation\n",
    "    operation = re.search(r\"= (\\w+)\", line).group(1)\n",
    "\n",
    "    # Extract operands; filter out the operation, \"value\", \"id\", and \"pos\"\n",
    "    operands = re.findall(r\"(\\w+\\.\\d+|\\w+)\", line.split(\"=\")[1])\n",
    "    operands = [op for op in operands if op not in [operation, \"value\", \"id\", \"pos\", \"start\", \"width\"]]\n",
    "\n",
    "\n",
    "    # Extract id\n",
    "    idNum = int(re.search(r\"id=(\\d+)\", line).group(1))\n",
    "\n",
    "    # Extract value (if present)\n",
    "    value_match = re.search(r\"value=(\\d+)\", line)\n",
    "    value = int(value_match.group(1)) if value_match else None\n",
    "\n",
    "    # Extract pos (if present)\n",
    "    pos_match = re.search(r\"pos=\\[\\((\\d+,\\d+,\\d+)\\)\\]\", line)\n",
    "    pos = tuple(map(int, pos_match.group(1).split(\",\"))) if pos_match else None\n",
    "\n",
    "    # Extract start and width for bit_slice (if present)\n",
    "    start = None\n",
    "    width = None\n",
    "    if operation == \"bit_slice\":\n",
    "        start = int(re.search(r\"start=(\\d+)\", line).group(1))\n",
    "        width = int(re.search(r\"width=(\\d+)\", line).group(1))\n",
    "\n",
    "    # Create Node object\n",
    "    node = Node(name, bitwidth, operation, operands, idNum, value, pos, FuncIO, start, width)\n",
    "    \n",
    "    # Add to node list\n",
    "    nodes.append(node)\n",
    "    return nodes\n",
    "\n",
    "def DictToGraph(G, NodeDict):\n",
    "    # This function turns the node dictionary to directional graph\n",
    "    NodeList = []\n",
    "    EdgeList = []\n",
    "    for NodeName in NodeDict:\n",
    "        if NodeDict[NodeName].FuncIO != \"In\": \n",
    "            # This if is for handling the function top input, they are treated as nodes as well.\n",
    "            NodeList.append((NodeDict[NodeName].idNum, node_to_dict(NodeDict[NodeName])))\n",
    "            for ParentName in NodeDict[NodeName].operands:\n",
    "                if NodeDict[ParentName].FuncIO != \"In\":\n",
    "                    EdgeList.append((NodeDict[ParentName].idNum, NodeDict[NodeName].idNum))\n",
    "                else: \n",
    "                    EdgeList.append((NodeDict[ParentName].name, NodeDict[NodeName].idNum))\n",
    "        else:\n",
    "            NodeList.append((NodeDict[NodeName].name, node_to_dict(NodeDict[NodeName])))\n",
    "\n",
    "    G.add_nodes_from(NodeList)\n",
    "    G.add_edges_from(EdgeList)\n",
    "    return G\n",
    "    "
   ]
  },
  {
   "cell_type": "code",
   "execution_count": 213,
   "metadata": {},
   "outputs": [
    {
     "name": "stdout",
     "output_type": "stream",
     "text": [
      "package my_package\n",
      "\n",
      "file_number 1 \"././work_space/test.cc\"\n",
      "\n",
      "top fn test_unroll(x: bits[32], y: bits[32], z: bits[32]) -> bits[32] {\n",
      "  add.22: bits[32] = add(x, y, id=22, pos=[(1,8,3)])\n",
      "  ret mul.23: bits[32] = mul(z, add.22, id=23, pos=[(1,8,3)])\n",
      "}\n",
      "\n"
     ]
    }
   ],
   "source": [
    "# Define the file path\n",
    "file_path = \"/home/miao/xls/work_space/my_test.opt.ir\"\n",
    "file_path = \"/home/miao/xls/work_space/test.opt.ir\"\n",
    "# file_path = \"/home/miao/xls/work_space/UNROLL.opt.ir\"\n",
    "\n",
    "# Open the file and read its contents\n",
    "with open(file_path, 'r') as f:\n",
    "    ir_content = f.read()\n",
    "\n",
    "print(ir_content)\n",
    "# Now you can print or process the `ir_content`\n",
    "\n"
   ]
  },
  {
   "cell_type": "code",
   "execution_count": 214,
   "metadata": {},
   "outputs": [
    {
     "name": "stdout",
     "output_type": "stream",
     "text": [
      "Node(name=x, bitwidth=32, operation=None, operands=None, id=None, value=None, pos=None, FuncIO=In, start=None, width=None)\n",
      "Node(name=y, bitwidth=32, operation=None, operands=None, id=None, value=None, pos=None, FuncIO=In, start=None, width=None)\n",
      "Node(name=z, bitwidth=32, operation=None, operands=None, id=None, value=None, pos=None, FuncIO=In, start=None, width=None)\n",
      "Node(name=add.22, bitwidth=32, operation=add, operands=['x', 'y'], id=22, value=None, pos=(1, 8, 3), FuncIO=Not, start=None, width=None)\n",
      "Node(name=mul.23, bitwidth=32, operation=mul, operands=['z', 'add.22'], id=23, value=None, pos=(1, 8, 3), FuncIO=Out, start=None, width=None)\n"
     ]
    }
   ],
   "source": [
    "\n",
    "NodeDict = {}\n",
    "Lines = ParseIRFile(ir_content)\n",
    "\n",
    "for Line in Lines:\n",
    "    NodeList = LineToDict(Line)\n",
    "    if NodeList != None:\n",
    "        for NodeObj in NodeList:\n",
    "            NodeDict[NodeObj.name] = NodeObj\n",
    "            print(NodeDict[NodeObj.name])\n",
    "\n",
    "    "
   ]
  },
  {
   "cell_type": "code",
   "execution_count": 215,
   "metadata": {},
   "outputs": [
    {
     "data": {
      "text/plain": [
       "NodeView(('x', 'y', 'z', 22, 23))"
      ]
     },
     "execution_count": 215,
     "metadata": {},
     "output_type": "execute_result"
    },
    {
     "data": {
      "image/png": "[encoded data removed]",
      "text/plain": [
       "<Figure size 432x288 with 1 Axes>"
      ]
     },
     "metadata": {},
     "output_type": "display_data"
    }
   ],
   "source": [
    "G = nx.DiGraph()\n",
    "G = DictToGraph(G, NodeDict)\n",
    "nx.draw(G, with_labels=True, font_weight='bold')\n",
    "G.nodes"
   ]
  },
  {
   "cell_type": "code",
   "execution_count": 202,
   "metadata": {},
   "outputs": [],
   "source": [
    "class CustomMatcher(isomorphism.DiGraphMatcher):\n",
    "    def semantic_feasibility(self, n1, n2):\n",
    "        # Ensure operations match\n",
    "        if self.G1.nodes[n1].get('operation') != self.G2.nodes[n2].get('operation'):\n",
    "            return False\n",
    "\n",
    "        # Ensure 'add' nodes in the main graph G1 have only one outgoing edge\n",
    "        if self.G1.nodes[n1].get('operation') == 'add' and self.G1.out_degree(n1) > 1:\n",
    "            return False\n",
    "\n",
    "        return True\n",
    "\n",
    "\n"
   ]
  },
  {
   "cell_type": "code",
   "execution_count": 219,
   "metadata": {},
   "outputs": [
    {
     "name": "stdout",
     "output_type": "stream",
     "text": [
      "{22: 'add', 23: 'mul'}\n"
     ]
    },
    {
     "data": {
      "image/png": "[encoded data removed]",
      "text/plain": [
       "<Figure size 432x288 with 1 Axes>"
      ]
     },
     "metadata": {},
     "output_type": "display_data"
    }
   ],
   "source": [
    "P = nx.DiGraph()\n",
    "\n",
    "\n",
    "P.add_node('add', operation='add')\n",
    "P.add_node('mul', operation='mul')\n",
    "# P.add_node('a', operation=None)  \n",
    "# P.add_node('b', operation=None) \n",
    "# P.add_node('c', operation=None)  \n",
    "\n",
    "\n",
    "# P.add_edge('a', 'add')\n",
    "# P.add_edge('b', 'add')\n",
    "P.add_edge('add', 'mul')\n",
    "# P.add_edge('c', 'mul')\n",
    "\n",
    "\n",
    "GM = CustomMatcher(G, P, node_match=lambda n1, n2: n1.get('operation') == n2.get('operation'))\n",
    "nx.draw(P, with_labels=True, font_weight='bold')\n",
    "\n",
    "for subgraph in GM.subgraph_isomorphisms_iter():\n",
    "    print(subgraph)  # This will print node mappings from G to P"
   ]
  }
 ],
 "metadata": {
  "kernelspec": {
   "display_name": "Python 3",
   "language": "python",
   "name": "python3"
  },
  "language_info": {
   "codemirror_mode": {
    "name": "ipython",
    "version": 3
   },
   "file_extension": ".py",
   "mimetype": "text/x-python",
   "name": "python",
   "nbconvert_exporter": "python",
   "pygments_lexer": "ipython3",
   "version": "3.8.10"
  }
 },
 "nbformat": 4,
 "nbformat_minor": 4
}
